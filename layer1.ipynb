{
 "cells": [
  {
   "cell_type": "code",
   "execution_count": 1,
   "id": "fb5e5447",
   "metadata": {},
   "outputs": [],
   "source": [
    "import pandas as pd\n",
    "import numpy as np\n",
    "from pandas.plotting import scatter_matrix\n",
    "import matplotlib.pyplot as plt\n",
    "from sklearn import model_selection\n",
    "from sklearn.metrics import classification_report\n",
    "from sklearn.metrics import confusion_matrix\n",
    "from sklearn.metrics import accuracy_score\n",
    "from sklearn.metrics import roc_curve\n",
    "from sklearn.tree import DecisionTreeClassifier\n",
    "from sklearn.ensemble import ExtraTreesClassifier\n",
    "from sklearn.ensemble import RandomForestClassifier\n",
    "from sklearn.metrics import roc_curve, auc\n",
    "import sklearn.externals\n",
    "import joblib \n",
    "import IPython.display \n",
    "import sklearn.tree \n",
    "import pydotplus\n",
    "import os"
   ]
  },
  {
   "cell_type": "code",
   "execution_count": 2,
   "id": "bbc4fb4b",
   "metadata": {},
   "outputs": [
    {
     "name": "stdout",
     "output_type": "stream",
     "text": [
      "Number of malicious = 269776\n"
     ]
    },
    {
     "data": {
      "text/html": [
       "<div>\n",
       "<style scoped>\n",
       "    .dataframe tbody tr th:only-of-type {\n",
       "        vertical-align: middle;\n",
       "    }\n",
       "\n",
       "    .dataframe tbody tr th {\n",
       "        vertical-align: top;\n",
       "    }\n",
       "\n",
       "    .dataframe thead th {\n",
       "        text-align: right;\n",
       "    }\n",
       "</style>\n",
       "<table border=\"1\" class=\"dataframe\">\n",
       "  <thead>\n",
       "    <tr style=\"text-align: right;\">\n",
       "      <th></th>\n",
       "      <th>SourceIP</th>\n",
       "      <th>DestinationIP</th>\n",
       "      <th>SourcePort</th>\n",
       "      <th>DestinationPort</th>\n",
       "      <th>TimeStamp</th>\n",
       "      <th>Duration</th>\n",
       "      <th>FlowBytesSent</th>\n",
       "      <th>FlowSentRate</th>\n",
       "      <th>FlowBytesReceived</th>\n",
       "      <th>FlowReceivedRate</th>\n",
       "      <th>...</th>\n",
       "      <th>PacketTimeCoefficientofVariation</th>\n",
       "      <th>ResponseTimeTimeVariance</th>\n",
       "      <th>ResponseTimeTimeStandardDeviation</th>\n",
       "      <th>ResponseTimeTimeMean</th>\n",
       "      <th>ResponseTimeTimeMedian</th>\n",
       "      <th>ResponseTimeTimeMode</th>\n",
       "      <th>ResponseTimeTimeSkewFromMedian</th>\n",
       "      <th>ResponseTimeTimeSkewFromMode</th>\n",
       "      <th>ResponseTimeTimeCoefficientofVariation</th>\n",
       "      <th>Label</th>\n",
       "    </tr>\n",
       "  </thead>\n",
       "  <tbody>\n",
       "    <tr>\n",
       "      <th>0</th>\n",
       "      <td>192.168.20.191</td>\n",
       "      <td>176.103.130.131</td>\n",
       "      <td>50749</td>\n",
       "      <td>443</td>\n",
       "      <td>2020/1/14 15:49</td>\n",
       "      <td>95.081550</td>\n",
       "      <td>62311</td>\n",
       "      <td>655.342703</td>\n",
       "      <td>65358</td>\n",
       "      <td>687.388878</td>\n",
       "      <td>...</td>\n",
       "      <td>0.574626</td>\n",
       "      <td>0.001053</td>\n",
       "      <td>0.032457</td>\n",
       "      <td>0.027624</td>\n",
       "      <td>0.026854</td>\n",
       "      <td>0.026822</td>\n",
       "      <td>0.071187</td>\n",
       "      <td>0.024715</td>\n",
       "      <td>1.174948</td>\n",
       "      <td>DoH</td>\n",
       "    </tr>\n",
       "    <tr>\n",
       "      <th>1</th>\n",
       "      <td>192.168.20.191</td>\n",
       "      <td>176.103.130.131</td>\n",
       "      <td>50749</td>\n",
       "      <td>443</td>\n",
       "      <td>2020/1/14 15:50</td>\n",
       "      <td>122.309318</td>\n",
       "      <td>93828</td>\n",
       "      <td>767.136973</td>\n",
       "      <td>101232</td>\n",
       "      <td>827.672018</td>\n",
       "      <td>...</td>\n",
       "      <td>0.509047</td>\n",
       "      <td>0.001170</td>\n",
       "      <td>0.034200</td>\n",
       "      <td>0.024387</td>\n",
       "      <td>0.021043</td>\n",
       "      <td>0.026981</td>\n",
       "      <td>0.293297</td>\n",
       "      <td>-0.075845</td>\n",
       "      <td>1.402382</td>\n",
       "      <td>DoH</td>\n",
       "    </tr>\n",
       "    <tr>\n",
       "      <th>2</th>\n",
       "      <td>192.168.20.191</td>\n",
       "      <td>176.103.130.131</td>\n",
       "      <td>50749</td>\n",
       "      <td>443</td>\n",
       "      <td>2020/1/14 15:52</td>\n",
       "      <td>120.958413</td>\n",
       "      <td>38784</td>\n",
       "      <td>320.639127</td>\n",
       "      <td>38236</td>\n",
       "      <td>316.108645</td>\n",
       "      <td>...</td>\n",
       "      <td>0.732636</td>\n",
       "      <td>0.000785</td>\n",
       "      <td>0.028021</td>\n",
       "      <td>0.029238</td>\n",
       "      <td>0.026922</td>\n",
       "      <td>0.026855</td>\n",
       "      <td>0.248064</td>\n",
       "      <td>0.085061</td>\n",
       "      <td>0.958348</td>\n",
       "      <td>DoH</td>\n",
       "    </tr>\n",
       "    <tr>\n",
       "      <th>3</th>\n",
       "      <td>192.168.20.191</td>\n",
       "      <td>176.103.130.131</td>\n",
       "      <td>50749</td>\n",
       "      <td>443</td>\n",
       "      <td>2020/1/14 15:54</td>\n",
       "      <td>110.501080</td>\n",
       "      <td>61993</td>\n",
       "      <td>561.017141</td>\n",
       "      <td>69757</td>\n",
       "      <td>631.278898</td>\n",
       "      <td>...</td>\n",
       "      <td>0.646859</td>\n",
       "      <td>0.000411</td>\n",
       "      <td>0.020274</td>\n",
       "      <td>0.019925</td>\n",
       "      <td>0.019268</td>\n",
       "      <td>0.026918</td>\n",
       "      <td>0.097199</td>\n",
       "      <td>-0.344926</td>\n",
       "      <td>1.017535</td>\n",
       "      <td>DoH</td>\n",
       "    </tr>\n",
       "    <tr>\n",
       "      <th>4</th>\n",
       "      <td>176.103.130.131</td>\n",
       "      <td>192.168.20.191</td>\n",
       "      <td>443</td>\n",
       "      <td>50749</td>\n",
       "      <td>2020/1/14 15:56</td>\n",
       "      <td>54.229891</td>\n",
       "      <td>83641</td>\n",
       "      <td>1542.341289</td>\n",
       "      <td>76804</td>\n",
       "      <td>1416.266907</td>\n",
       "      <td>...</td>\n",
       "      <td>0.507334</td>\n",
       "      <td>0.079079</td>\n",
       "      <td>0.281209</td>\n",
       "      <td>0.025930</td>\n",
       "      <td>0.000046</td>\n",
       "      <td>0.000021</td>\n",
       "      <td>0.276133</td>\n",
       "      <td>0.092135</td>\n",
       "      <td>10.844829</td>\n",
       "      <td>DoH</td>\n",
       "    </tr>\n",
       "  </tbody>\n",
       "</table>\n",
       "<p>5 rows × 35 columns</p>\n",
       "</div>"
      ],
      "text/plain": [
       "          SourceIP    DestinationIP  SourcePort  DestinationPort  \\\n",
       "0   192.168.20.191  176.103.130.131       50749              443   \n",
       "1   192.168.20.191  176.103.130.131       50749              443   \n",
       "2   192.168.20.191  176.103.130.131       50749              443   \n",
       "3   192.168.20.191  176.103.130.131       50749              443   \n",
       "4  176.103.130.131   192.168.20.191         443            50749   \n",
       "\n",
       "         TimeStamp    Duration  FlowBytesSent  FlowSentRate  \\\n",
       "0  2020/1/14 15:49   95.081550          62311    655.342703   \n",
       "1  2020/1/14 15:50  122.309318          93828    767.136973   \n",
       "2  2020/1/14 15:52  120.958413          38784    320.639127   \n",
       "3  2020/1/14 15:54  110.501080          61993    561.017141   \n",
       "4  2020/1/14 15:56   54.229891          83641   1542.341289   \n",
       "\n",
       "   FlowBytesReceived  FlowReceivedRate  ...  PacketTimeCoefficientofVariation  \\\n",
       "0              65358        687.388878  ...                          0.574626   \n",
       "1             101232        827.672018  ...                          0.509047   \n",
       "2              38236        316.108645  ...                          0.732636   \n",
       "3              69757        631.278898  ...                          0.646859   \n",
       "4              76804       1416.266907  ...                          0.507334   \n",
       "\n",
       "   ResponseTimeTimeVariance  ResponseTimeTimeStandardDeviation  \\\n",
       "0                  0.001053                           0.032457   \n",
       "1                  0.001170                           0.034200   \n",
       "2                  0.000785                           0.028021   \n",
       "3                  0.000411                           0.020274   \n",
       "4                  0.079079                           0.281209   \n",
       "\n",
       "   ResponseTimeTimeMean  ResponseTimeTimeMedian  ResponseTimeTimeMode  \\\n",
       "0              0.027624                0.026854              0.026822   \n",
       "1              0.024387                0.021043              0.026981   \n",
       "2              0.029238                0.026922              0.026855   \n",
       "3              0.019925                0.019268              0.026918   \n",
       "4              0.025930                0.000046              0.000021   \n",
       "\n",
       "   ResponseTimeTimeSkewFromMedian  ResponseTimeTimeSkewFromMode  \\\n",
       "0                        0.071187                      0.024715   \n",
       "1                        0.293297                     -0.075845   \n",
       "2                        0.248064                      0.085061   \n",
       "3                        0.097199                     -0.344926   \n",
       "4                        0.276133                      0.092135   \n",
       "\n",
       "   ResponseTimeTimeCoefficientofVariation  Label  \n",
       "0                                1.174948    DoH  \n",
       "1                                1.402382    DoH  \n",
       "2                                0.958348    DoH  \n",
       "3                                1.017535    DoH  \n",
       "4                               10.844829    DoH  \n",
       "\n",
       "[5 rows x 35 columns]"
      ]
     },
     "execution_count": 2,
     "metadata": {},
     "output_type": "execute_result"
    }
   ],
   "source": [
    "data_doh = pd.read_csv('12-benign-doh.csv', delimiter=',')\n",
    "data_doh['DoH'] = 'DoH'\n",
    "data_mal = pd.read_csv('mal-dns2tcp.csv', delimiter=',')\n",
    "df2_malic = pd.read_csv('mal-dnscat2.csv', delimiter=',')\n",
    "df3_malic = pd.read_csv('mal-iodine.csv', delimiter=',')\n",
    "data_mal = pd.concat([data_mal,df2_malic])\n",
    "data_mal = pd.concat([data_mal,df3_malic])\n",
    "data_mal['DoH'] = 'DoH'\n",
    "data_doh = pd.concat([data_doh,data_mal])\n",
    "data_doh = data_doh.rename(columns={'DoH': 'Label'})\n",
    "print(f'Number of malicious = {len(data_doh)}')\n",
    "data_doh.head()"
   ]
  },
  {
   "cell_type": "code",
   "execution_count": 3,
   "id": "915f74db",
   "metadata": {},
   "outputs": [
    {
     "name": "stdout",
     "output_type": "stream",
     "text": [
      "Label\n",
      "DoH    269776\n",
      "dtype: int64\n"
     ]
    }
   ],
   "source": [
    "print(data_doh.groupby('Label').size())"
   ]
  },
  {
   "cell_type": "code",
   "execution_count": 4,
   "id": "c9be9c99",
   "metadata": {},
   "outputs": [
    {
     "name": "stdout",
     "output_type": "stream",
     "text": [
      "Number of malicious = 897493\n"
     ]
    },
    {
     "data": {
      "text/html": [
       "<div>\n",
       "<style scoped>\n",
       "    .dataframe tbody tr th:only-of-type {\n",
       "        vertical-align: middle;\n",
       "    }\n",
       "\n",
       "    .dataframe tbody tr th {\n",
       "        vertical-align: top;\n",
       "    }\n",
       "\n",
       "    .dataframe thead th {\n",
       "        text-align: right;\n",
       "    }\n",
       "</style>\n",
       "<table border=\"1\" class=\"dataframe\">\n",
       "  <thead>\n",
       "    <tr style=\"text-align: right;\">\n",
       "      <th></th>\n",
       "      <th>SourceIP</th>\n",
       "      <th>DestinationIP</th>\n",
       "      <th>SourcePort</th>\n",
       "      <th>DestinationPort</th>\n",
       "      <th>TimeStamp</th>\n",
       "      <th>Duration</th>\n",
       "      <th>FlowBytesSent</th>\n",
       "      <th>FlowSentRate</th>\n",
       "      <th>FlowBytesReceived</th>\n",
       "      <th>FlowReceivedRate</th>\n",
       "      <th>...</th>\n",
       "      <th>PacketTimeCoefficientofVariation</th>\n",
       "      <th>ResponseTimeTimeVariance</th>\n",
       "      <th>ResponseTimeTimeStandardDeviation</th>\n",
       "      <th>ResponseTimeTimeMean</th>\n",
       "      <th>ResponseTimeTimeMedian</th>\n",
       "      <th>ResponseTimeTimeMode</th>\n",
       "      <th>ResponseTimeTimeSkewFromMedian</th>\n",
       "      <th>ResponseTimeTimeSkewFromMode</th>\n",
       "      <th>ResponseTimeTimeCoefficientofVariation</th>\n",
       "      <th>Label</th>\n",
       "    </tr>\n",
       "  </thead>\n",
       "  <tbody>\n",
       "    <tr>\n",
       "      <th>0</th>\n",
       "      <td>192.168.20.111</td>\n",
       "      <td>8.8.8.8</td>\n",
       "      <td>49972</td>\n",
       "      <td>443</td>\n",
       "      <td>2019/12/10 13:14</td>\n",
       "      <td>0.017147</td>\n",
       "      <td>171</td>\n",
       "      <td>9972.589957</td>\n",
       "      <td>105</td>\n",
       "      <td>6123.520149</td>\n",
       "      <td>...</td>\n",
       "      <td>0.707107</td>\n",
       "      <td>0.000000</td>\n",
       "      <td>0.000000</td>\n",
       "      <td>0.017120</td>\n",
       "      <td>0.017120</td>\n",
       "      <td>0.017120</td>\n",
       "      <td>-10.000000</td>\n",
       "      <td>-10.000000</td>\n",
       "      <td>0.000000</td>\n",
       "      <td>NonDoH</td>\n",
       "    </tr>\n",
       "    <tr>\n",
       "      <th>1</th>\n",
       "      <td>192.168.20.111</td>\n",
       "      <td>8.8.8.8</td>\n",
       "      <td>50028</td>\n",
       "      <td>443</td>\n",
       "      <td>2019/12/10 13:14</td>\n",
       "      <td>0.954806</td>\n",
       "      <td>2555</td>\n",
       "      <td>2675.936263</td>\n",
       "      <td>5675</td>\n",
       "      <td>5943.615771</td>\n",
       "      <td>...</td>\n",
       "      <td>1.353916</td>\n",
       "      <td>0.000084</td>\n",
       "      <td>0.009147</td>\n",
       "      <td>0.010709</td>\n",
       "      <td>0.008997</td>\n",
       "      <td>0.000004</td>\n",
       "      <td>0.561552</td>\n",
       "      <td>1.170332</td>\n",
       "      <td>0.854139</td>\n",
       "      <td>NonDoH</td>\n",
       "    </tr>\n",
       "    <tr>\n",
       "      <th>2</th>\n",
       "      <td>192.168.20.111</td>\n",
       "      <td>8.8.8.8</td>\n",
       "      <td>50092</td>\n",
       "      <td>443</td>\n",
       "      <td>2019/12/10 13:14</td>\n",
       "      <td>1.646289</td>\n",
       "      <td>8465</td>\n",
       "      <td>5141.867558</td>\n",
       "      <td>10845</td>\n",
       "      <td>6587.543256</td>\n",
       "      <td>...</td>\n",
       "      <td>0.549101</td>\n",
       "      <td>0.000064</td>\n",
       "      <td>0.007990</td>\n",
       "      <td>0.010945</td>\n",
       "      <td>0.015319</td>\n",
       "      <td>0.000003</td>\n",
       "      <td>-1.642429</td>\n",
       "      <td>1.369527</td>\n",
       "      <td>0.729979</td>\n",
       "      <td>NonDoH</td>\n",
       "    </tr>\n",
       "    <tr>\n",
       "      <th>3</th>\n",
       "      <td>192.168.20.111</td>\n",
       "      <td>54.72.229.126</td>\n",
       "      <td>60540</td>\n",
       "      <td>443</td>\n",
       "      <td>2019/12/10 13:14</td>\n",
       "      <td>1.132705</td>\n",
       "      <td>1751</td>\n",
       "      <td>1545.857041</td>\n",
       "      <td>4504</td>\n",
       "      <td>3976.322167</td>\n",
       "      <td>...</td>\n",
       "      <td>0.847468</td>\n",
       "      <td>0.001276</td>\n",
       "      <td>0.035717</td>\n",
       "      <td>0.079840</td>\n",
       "      <td>0.095209</td>\n",
       "      <td>0.000012</td>\n",
       "      <td>-1.290885</td>\n",
       "      <td>2.235006</td>\n",
       "      <td>0.447359</td>\n",
       "      <td>NonDoH</td>\n",
       "    </tr>\n",
       "    <tr>\n",
       "      <th>4</th>\n",
       "      <td>192.168.20.111</td>\n",
       "      <td>54.191.252.154</td>\n",
       "      <td>50928</td>\n",
       "      <td>443</td>\n",
       "      <td>2019/12/10 13:14</td>\n",
       "      <td>1.170098</td>\n",
       "      <td>2351</td>\n",
       "      <td>2009.233415</td>\n",
       "      <td>4633</td>\n",
       "      <td>3959.497410</td>\n",
       "      <td>...</td>\n",
       "      <td>0.806748</td>\n",
       "      <td>0.001192</td>\n",
       "      <td>0.034518</td>\n",
       "      <td>0.054705</td>\n",
       "      <td>0.082358</td>\n",
       "      <td>0.000016</td>\n",
       "      <td>-2.403374</td>\n",
       "      <td>1.584345</td>\n",
       "      <td>0.630991</td>\n",
       "      <td>NonDoH</td>\n",
       "    </tr>\n",
       "  </tbody>\n",
       "</table>\n",
       "<p>5 rows × 35 columns</p>\n",
       "</div>"
      ],
      "text/plain": [
       "         SourceIP   DestinationIP  SourcePort  DestinationPort  \\\n",
       "0  192.168.20.111         8.8.8.8       49972              443   \n",
       "1  192.168.20.111         8.8.8.8       50028              443   \n",
       "2  192.168.20.111         8.8.8.8       50092              443   \n",
       "3  192.168.20.111   54.72.229.126       60540              443   \n",
       "4  192.168.20.111  54.191.252.154       50928              443   \n",
       "\n",
       "          TimeStamp  Duration  FlowBytesSent  FlowSentRate  FlowBytesReceived  \\\n",
       "0  2019/12/10 13:14  0.017147            171   9972.589957                105   \n",
       "1  2019/12/10 13:14  0.954806           2555   2675.936263               5675   \n",
       "2  2019/12/10 13:14  1.646289           8465   5141.867558              10845   \n",
       "3  2019/12/10 13:14  1.132705           1751   1545.857041               4504   \n",
       "4  2019/12/10 13:14  1.170098           2351   2009.233415               4633   \n",
       "\n",
       "   FlowReceivedRate  ...  PacketTimeCoefficientofVariation  \\\n",
       "0       6123.520149  ...                          0.707107   \n",
       "1       5943.615771  ...                          1.353916   \n",
       "2       6587.543256  ...                          0.549101   \n",
       "3       3976.322167  ...                          0.847468   \n",
       "4       3959.497410  ...                          0.806748   \n",
       "\n",
       "   ResponseTimeTimeVariance  ResponseTimeTimeStandardDeviation  \\\n",
       "0                  0.000000                           0.000000   \n",
       "1                  0.000084                           0.009147   \n",
       "2                  0.000064                           0.007990   \n",
       "3                  0.001276                           0.035717   \n",
       "4                  0.001192                           0.034518   \n",
       "\n",
       "   ResponseTimeTimeMean  ResponseTimeTimeMedian  ResponseTimeTimeMode  \\\n",
       "0              0.017120                0.017120              0.017120   \n",
       "1              0.010709                0.008997              0.000004   \n",
       "2              0.010945                0.015319              0.000003   \n",
       "3              0.079840                0.095209              0.000012   \n",
       "4              0.054705                0.082358              0.000016   \n",
       "\n",
       "   ResponseTimeTimeSkewFromMedian  ResponseTimeTimeSkewFromMode  \\\n",
       "0                      -10.000000                    -10.000000   \n",
       "1                        0.561552                      1.170332   \n",
       "2                       -1.642429                      1.369527   \n",
       "3                       -1.290885                      2.235006   \n",
       "4                       -2.403374                      1.584345   \n",
       "\n",
       "   ResponseTimeTimeCoefficientofVariation   Label  \n",
       "0                                0.000000  NonDoH  \n",
       "1                                0.854139  NonDoH  \n",
       "2                                0.729979  NonDoH  \n",
       "3                                0.447359  NonDoH  \n",
       "4                                0.630991  NonDoH  \n",
       "\n",
       "[5 rows x 35 columns]"
      ]
     },
     "execution_count": 4,
     "metadata": {},
     "output_type": "execute_result"
    }
   ],
   "source": [
    "data_nodoh = pd.read_csv('12-benign-nodoh-firefox.csv', delimiter=',')\n",
    "data_nodoh1 = pd.read_csv('12-benign-nohoh-chrome.csv', delimiter=',')\n",
    "data_nodoh = pd.concat([data_nodoh,data_nodoh1])\n",
    "data_nodoh['DoH'] = 'NonDoH' \n",
    "data_nodoh = data_nodoh.rename(columns={'DoH': 'Label'})\n",
    "print(f'Number of malicious = {len(data_nodoh)}')\n",
    "data_nodoh.head()"
   ]
  },
  {
   "cell_type": "code",
   "execution_count": 5,
   "id": "dd6d7a0a",
   "metadata": {},
   "outputs": [
    {
     "name": "stdout",
     "output_type": "stream",
     "text": [
      "Label\n",
      "NonDoH    897493\n",
      "dtype: int64\n"
     ]
    }
   ],
   "source": [
    "print(data_nodoh.groupby('Label').size())"
   ]
  },
  {
   "cell_type": "code",
   "execution_count": 6,
   "id": "f140f9ed",
   "metadata": {},
   "outputs": [],
   "source": [
    "dataset = pd.concat([data_doh,data_nodoh])"
   ]
  },
  {
   "cell_type": "code",
   "execution_count": 7,
   "id": "3a6d0fa2",
   "metadata": {},
   "outputs": [
    {
     "name": "stdout",
     "output_type": "stream",
     "text": [
      "(1167269, 35)\n",
      "Label\n",
      "DoH       269776\n",
      "NonDoH    897493\n",
      "dtype: int64\n"
     ]
    }
   ],
   "source": [
    "print(dataset.shape)\n",
    "print(dataset.groupby('Label').size())"
   ]
  },
  {
   "cell_type": "code",
   "execution_count": 8,
   "id": "a1803a01",
   "metadata": {},
   "outputs": [
    {
     "name": "stdout",
     "output_type": "stream",
     "text": [
      "True\n",
      "SourceIP                                     0\n",
      "DestinationIP                                0\n",
      "SourcePort                                   0\n",
      "DestinationPort                              0\n",
      "TimeStamp                                    0\n",
      "Duration                                     0\n",
      "FlowBytesSent                                0\n",
      "FlowSentRate                                 0\n",
      "FlowBytesReceived                            0\n",
      "FlowReceivedRate                             0\n",
      "PacketLengthVariance                         0\n",
      "PacketLengthStandardDeviation                0\n",
      "PacketLengthMean                             0\n",
      "PacketLengthMedian                           0\n",
      "PacketLengthMode                             0\n",
      "PacketLengthSkewFromMedian                   0\n",
      "PacketLengthSkewFromMode                     0\n",
      "PacketLengthCoefficientofVariation           0\n",
      "PacketTimeVariance                           0\n",
      "PacketTimeStandardDeviation                  0\n",
      "PacketTimeMean                               0\n",
      "PacketTimeMedian                             0\n",
      "PacketTimeMode                               0\n",
      "PacketTimeSkewFromMedian                     0\n",
      "PacketTimeSkewFromMode                       0\n",
      "PacketTimeCoefficientofVariation             0\n",
      "ResponseTimeTimeVariance                     0\n",
      "ResponseTimeTimeStandardDeviation            0\n",
      "ResponseTimeTimeMean                         0\n",
      "ResponseTimeTimeMedian                    7937\n",
      "ResponseTimeTimeMode                         0\n",
      "ResponseTimeTimeSkewFromMedian            7937\n",
      "ResponseTimeTimeSkewFromMode                 0\n",
      "ResponseTimeTimeCoefficientofVariation       0\n",
      "Label                                        0\n",
      "dtype: int64\n",
      "New:  False\n",
      "New:  SourceIP                                  0\n",
      "DestinationIP                             0\n",
      "SourcePort                                0\n",
      "DestinationPort                           0\n",
      "TimeStamp                                 0\n",
      "Duration                                  0\n",
      "FlowBytesSent                             0\n",
      "FlowSentRate                              0\n",
      "FlowBytesReceived                         0\n",
      "FlowReceivedRate                          0\n",
      "PacketLengthVariance                      0\n",
      "PacketLengthStandardDeviation             0\n",
      "PacketLengthMean                          0\n",
      "PacketLengthMedian                        0\n",
      "PacketLengthMode                          0\n",
      "PacketLengthSkewFromMedian                0\n",
      "PacketLengthSkewFromMode                  0\n",
      "PacketLengthCoefficientofVariation        0\n",
      "PacketTimeVariance                        0\n",
      "PacketTimeStandardDeviation               0\n",
      "PacketTimeMean                            0\n",
      "PacketTimeMedian                          0\n",
      "PacketTimeMode                            0\n",
      "PacketTimeSkewFromMedian                  0\n",
      "PacketTimeSkewFromMode                    0\n",
      "PacketTimeCoefficientofVariation          0\n",
      "ResponseTimeTimeVariance                  0\n",
      "ResponseTimeTimeStandardDeviation         0\n",
      "ResponseTimeTimeMean                      0\n",
      "ResponseTimeTimeMedian                    0\n",
      "ResponseTimeTimeMode                      0\n",
      "ResponseTimeTimeSkewFromMedian            0\n",
      "ResponseTimeTimeSkewFromMode              0\n",
      "ResponseTimeTimeCoefficientofVariation    0\n",
      "Label                                     0\n",
      "dtype: int64\n"
     ]
    }
   ],
   "source": [
    "null = dataset.isnull()\n",
    "print(dataset.isnull().any().any())\n",
    "print(null.sum())\n",
    "dataset['ResponseTimeTimeMedian'] = dataset['ResponseTimeTimeMedian'].fillna(0)\n",
    "dataset['ResponseTimeTimeSkewFromMedian'] = dataset['ResponseTimeTimeSkewFromMedian'].fillna(0)\n",
    "null = dataset.isnull()\n",
    "print(\"New: \", dataset.isnull().any().any())\n",
    "print(\"New: \", null.sum())"
   ]
  },
  {
   "cell_type": "code",
   "execution_count": 9,
   "id": "fa5a0db0",
   "metadata": {},
   "outputs": [
    {
     "data": {
      "text/plain": [
       "Index(['FlowBytesReceived', 'FlowReceivedRate', 'PacketLengthVariance',\n",
       "       'PacketLengthStandardDeviation', 'PacketLengthMean',\n",
       "       'PacketLengthMedian', 'PacketLengthMode', 'PacketLengthSkewFromMedian',\n",
       "       'PacketLengthSkewFromMode', 'PacketLengthCoefficientofVariation',\n",
       "       'PacketTimeVariance', 'PacketTimeStandardDeviation', 'PacketTimeMean',\n",
       "       'PacketTimeMedian', 'PacketTimeMode', 'PacketTimeSkewFromMode',\n",
       "       'PacketTimeCoefficientofVariation', 'ResponseTimeTimeVariance',\n",
       "       'ResponseTimeTimeStandardDeviation', 'ResponseTimeTimeMean',\n",
       "       'ResponseTimeTimeMedian', 'ResponseTimeTimeMode',\n",
       "       'ResponseTimeTimeSkewFromMedian', 'ResponseTimeTimeSkewFromMode',\n",
       "       'ResponseTimeTimeCoefficientofVariation', 'Label'],\n",
       "      dtype='object')"
      ]
     },
     "execution_count": 9,
     "metadata": {},
     "output_type": "execute_result"
    }
   ],
   "source": [
    "dataset.columns\n",
    "cols = dataset.drop(labels = ['TimeStamp','SourceIP', 'DestinationIP', 'SourcePort', 'DestinationPort','Duration','FlowBytesSent','FlowSentRate', 'PacketTimeSkewFromMedian'], axis = 1)\n",
    "cols.columns"
   ]
  },
  {
   "cell_type": "code",
   "execution_count": 10,
   "id": "fc4d980e",
   "metadata": {},
   "outputs": [],
   "source": [
    "from sklearn.preprocessing import MinMaxScaler"
   ]
  },
  {
   "cell_type": "code",
   "execution_count": 11,
   "id": "b026c1eb",
   "metadata": {},
   "outputs": [
    {
     "name": "stdout",
     "output_type": "stream",
     "text": [
      "[[65358 687.3888783 7474.676771 ... 0.024714815 1.174947648 'DoH']\n",
      " [101232 827.6720176 10458.1186 ... -0.07584524 1.402381756 'DoH']\n",
      " [38236 316.1086447 7300.293933 ... 0.085061157 0.958347923 'DoH']\n",
      " ...\n",
      " [66 4319.937165 30.25 ... -10.0 0.0 'NonDoH']\n",
      " [66 4329.572291 30.25 ... -10.0 0.0 'NonDoH']\n",
      " [1252 563.1405611 1189.493056 ... 1.004006397 0.995269168 'NonDoH']]\n"
     ]
    }
   ],
   "source": [
    "array = cols.values\n",
    "print(array)\n",
    "X = array[:,0:25]\n",
    "Y = array[:,25]\n",
    "#Y = Y.astype('int')\n",
    "validation_size = 0.30\n",
    "seed = 65\n",
    "# 创建 MinMaxScaler 对象\n",
    "scaler = MinMaxScaler()\n",
    "\n",
    "# 使用 fit_transform 方法对特征进行缩放\n",
    "X_scaled = scaler.fit_transform(X)\n",
    "X_train, X_test, Y_train, Y_test = model_selection.train_test_split(X, Y, test_size=validation_size, random_state=seed)"
   ]
  },
  {
   "cell_type": "code",
   "execution_count": 12,
   "id": "0d9e52fb",
   "metadata": {},
   "outputs": [
    {
     "name": "stdout",
     "output_type": "stream",
     "text": [
      "accuracy\n"
     ]
    },
    {
     "data": {
      "text/plain": [
       "(350181, 25)"
      ]
     },
     "execution_count": 12,
     "metadata": {},
     "output_type": "execute_result"
    }
   ],
   "source": [
    "scoring = 'accuracy'\n",
    "print(scoring)\n",
    "X_test.shape"
   ]
  },
  {
   "cell_type": "code",
   "execution_count": 14,
   "id": "14386223",
   "metadata": {},
   "outputs": [],
   "source": [
    "import lightgbm as lgb\n",
    "from sklearn.ensemble import RandomForestClassifier,StackingClassifier"
   ]
  },
  {
   "cell_type": "code",
   "execution_count": 15,
   "id": "d8912abd",
   "metadata": {},
   "outputs": [],
   "source": [
    "estimators = [('lgbm', lgb.LGBMClassifier()), ('rf', RandomForestClassifier())]\n",
    "stacking = StackingClassifier(estimators=estimators, final_estimator=RandomForestClassifier())"
   ]
  },
  {
   "cell_type": "code",
   "execution_count": 16,
   "id": "a4133c06",
   "metadata": {},
   "outputs": [
    {
     "name": "stdout",
     "output_type": "stream",
     "text": [
      "[('DTC', DecisionTreeClassifier()), ('ETC', ExtraTreesClassifier()), ('RFC', RandomForestClassifier()), ('SC', StackingClassifier(estimators=[('lgbm', LGBMClassifier()),\n",
      "                               ('rf', RandomForestClassifier())],\n",
      "                   final_estimator=RandomForestClassifier()))]\n"
     ]
    }
   ],
   "source": [
    "models = []\n",
    "models.append(('DTC', DecisionTreeClassifier()))\n",
    "models.append(('ETC', ExtraTreesClassifier()))\n",
    "models.append(('RFC', RandomForestClassifier()))\n",
    "models.append(('SC', stacking))\n",
    "print(models)"
   ]
  },
  {
   "cell_type": "code",
   "execution_count": 17,
   "id": "f642c054",
   "metadata": {},
   "outputs": [
    {
     "name": "stdout",
     "output_type": "stream",
     "text": [
      "[0.97297115 0.97248161 0.97233475 0.97251204 0.97233458]\n",
      "DTC Accuracy: 0.972527 (+/- 0.000234)\n",
      "[0.97410322 0.97386457 0.97362592 0.9741153  0.97387665]\n",
      "ETC Accuracy: 0.973917 (+/- 0.000181)\n",
      "[0.97438471 0.97454381 0.97420113 0.9744641  0.97424381]\n",
      "RFC Accuracy: 0.974368 (+/- 0.000129)\n",
      "[0.98943201 0.98973797 0.9893647  0.98944418 0.98943806]\n",
      "SC Accuracy: 0.989483 (+/- 0.000130)\n"
     ]
    }
   ],
   "source": [
    "results = []\n",
    "names = []\n",
    "for name, model in models:\n",
    "        kfold = model_selection.KFold(n_splits=5, random_state=seed, shuffle = True)\n",
    "        cv_results = model_selection.cross_val_score(model, X_train, Y_train, cv=kfold, scoring=scoring)\n",
    "        print(cv_results)\n",
    "        results.append(cv_results)\n",
    "        names.append(name)\n",
    "        msg = \"%s Accuracy: %f (+/- %f)\" % (name, cv_results.mean(), cv_results.std())\n",
    "        print(msg)"
   ]
  },
  {
   "cell_type": "code",
   "execution_count": 18,
   "id": "b5f1379f",
   "metadata": {},
   "outputs": [
    {
     "data": {
      "image/png": "[encoded data removed]",
      "text/plain": [
       "<Figure size 640x480 with 1 Axes>"
      ]
     },
     "metadata": {},
     "output_type": "display_data"
    }
   ],
   "source": [
    "fig = plt.figure()\n",
    "fig.suptitle('Algorithm Comparison')\n",
    "ax = fig.add_subplot(111)\n",
    "plt.boxplot(results)\n",
    "ax.set_xticklabels(names)\n",
    "plt.show()"
   ]
  },
  {
   "cell_type": "code",
   "execution_count": 19,
   "id": "8a79b1d3",
   "metadata": {},
   "outputs": [
    {
     "name": "stdout",
     "output_type": "stream",
     "text": [
      "stacking Accuracy test set result\n",
      "0.9916386097475306\n",
      "ETC accuracy test:\n",
      " 0.9916386097475306\n",
      "\n",
      "Confusion Matrix:\n",
      " [[ 78828   1738]\n",
      " [  1190 268425]]\n",
      "\n",
      "Classfication report:\n",
      "               precision    recall  f1-score   support\n",
      "\n",
      "         DoH       0.99      0.98      0.98     80566\n",
      "      NonDoH       0.99      1.00      0.99    269615\n",
      "\n",
      "    accuracy                           0.99    350181\n",
      "   macro avg       0.99      0.99      0.99    350181\n",
      "weighted avg       0.99      0.99      0.99    350181\n",
      "\n"
     ]
    },
    {
     "data": {
      "image/png": "[encoded data removed]",
      "text/plain": [
       "<Figure size 640x480 with 2 Axes>"
      ]
     },
     "metadata": {},
     "output_type": "display_data"
    },
    {
     "name": "stdout",
     "output_type": "stream",
     "text": [
      "Validating Feature importance\n",
      "[0.0185943  0.01561969 0.02540119 0.04228348 0.06032019 0.0367437\n",
      " 0.0666766  0.03575264 0.03006688 0.0535047  0.06769466 0.14398983\n",
      " 0.08743705 0.06785807 0.00398434 0.01559327 0.0413589  0.00778563\n",
      " 0.01176564 0.01611912 0.02776919 0.01194008 0.04130338 0.0499867\n",
      " 0.02045077]\n"
     ]
    },
    {
     "data": {
      "image/png": "[encoded data removed]",
      "text/plain": [
       "<Figure size 640x480 with 1 Axes>"
      ]
     },
     "metadata": {},
     "output_type": "display_data"
    },
    {
     "data": {
      "text/plain": [
       "<Axes: >"
      ]
     },
     "execution_count": 19,
     "metadata": {},
     "output_type": "execute_result"
    },
    {
     "data": {
      "image/png": "[encoded data removed]",
      "text/plain": [
       "<Figure size 640x480 with 1 Axes>"
      ]
     },
     "metadata": {},
     "output_type": "display_data"
    }
   ],
   "source": [
    "print(\"stacking Accuracy test set result\")\n",
    "etc = stacking\n",
    "etc.fit(X_train, Y_train)\n",
    "filename = 'finalized_RFC_model.sav'\n",
    "joblib.dump(etc, filename)\n",
    "loaded_model = joblib.load(filename)\n",
    "result = loaded_model.score(X_test, Y_test)\n",
    "print (result)\n",
    "\n",
    "predictions_etc = etc.predict(X_test)\n",
    "print(\"ETC accuracy test:\\n\",accuracy_score(Y_test, predictions_etc))\n",
    "print(\"\\nConfusion Matrix:\\n\",confusion_matrix(Y_test, predictions_etc))\n",
    "print(\"\\nClassfication report:\\n\",classification_report(Y_test, predictions_etc))\n",
    "\n",
    "from sklearn.metrics import confusion_matrix\n",
    "import seaborn as sns\n",
    "import matplotlib.pyplot as plt\n",
    "\n",
    "cf_matrix = confusion_matrix(Y_test, predictions_etc)\n",
    "sns.heatmap(cf_matrix, annot=True, fmt='g')\n",
    "plt.xlabel('Predicted labels')\n",
    "plt.ylabel('True labels')\n",
    "plt.title('Confusion Matrix')\n",
    "plt.show()\n",
    "\n",
    "\n",
    "print (\"Validating Feature importance\")\n",
    "#fit an Extra Trees model to the data\n",
    "test_model = ExtraTreesClassifier()\n",
    "test_model.fit(X_train, Y_train)\n",
    "#display the relative importance of each attribute\n",
    "print(test_model.feature_importances_)\n",
    "#plot\n",
    "plt.bar(range(len(test_model.feature_importances_)), test_model.feature_importances_)\n",
    "plt.show()\n",
    "\n",
    "df = dataset.reset_index(drop = False)\n",
    "feat_importances = pd.Series(test_model.feature_importances_, index=dataset.columns[0:25])\n",
    "feat_importances.nlargest(10).plot(kind='barh')"
   ]
  },
  {
   "cell_type": "code",
   "execution_count": null,
   "id": "607cd2ca",
   "metadata": {},
   "outputs": [],
   "source": []
  },
  {
   "cell_type": "code",
   "execution_count": null,
   "id": "5fef5949",
   "metadata": {},
   "outputs": [],
   "source": []
  }
 ],
 "metadata": {
  "kernelspec": {
   "display_name": "Python 3 (ipykernel)",
   "language": "python",
   "name": "python3"
  },
  "language_info": {
   "codemirror_mode": {
    "name": "ipython",
    "version": 3
   },
   "file_extension": ".py",
   "mimetype": "text/x-python",
   "name": "python",
   "nbconvert_exporter": "python",
   "pygments_lexer": "ipython3",
   "version": "3.10.9"
  }
 },
 "nbformat": 4,
 "nbformat_minor": 5
}
